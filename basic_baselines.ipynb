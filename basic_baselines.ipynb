{
 "cells": [
  {
   "cell_type": "code",
   "execution_count": 2,
   "metadata": {},
   "outputs": [
    {
     "name": "stdout",
     "output_type": "stream",
     "text": [
      "Setup complete\n"
     ]
    },
    {
     "name": "stderr",
     "output_type": "stream",
     "text": [
      "/home/beren/anaconda3/lib/python3.6/site-packages/gym/envs/registration.py:17: PkgResourcesDeprecationWarning: Parameters to load are deprecated.  Call .resolve and .require separately.\n",
      "  result = entry_point.load(False)\n"
     ]
    }
   ],
   "source": [
    "# simple baselines for the random and stimulus response agent\n",
    "import numpy as np\n",
    "import matplotlib.pyplot as plt\n",
    "import gym\n",
    "import seaborn as sn\n",
    "\n",
    "env = gym.make(\"CartPole-v0\")\n",
    "print(\"Setup complete\")"
   ]
  },
  {
   "cell_type": "code",
   "execution_count": 15,
   "metadata": {},
   "outputs": [
    {
     "name": "stdout",
     "output_type": "stream",
     "text": [
      "0\n",
      "1\n",
      "2\n",
      "3\n",
      "4\n",
      "5\n",
      "6\n",
      "7\n",
      "8\n",
      "9\n",
      "10\n",
      "11\n",
      "12\n",
      "13\n",
      "14\n",
      "15\n",
      "16\n",
      "17\n",
      "18\n",
      "19\n",
      "20\n",
      "21\n",
      "22\n",
      "23\n",
      "24\n",
      "25\n",
      "26\n",
      "27\n",
      "28\n",
      "29\n",
      "30\n",
      "31\n",
      "32\n",
      "33\n",
      "34\n",
      "35\n",
      "36\n",
      "37\n",
      "38\n",
      "39\n",
      "40\n",
      "41\n",
      "42\n",
      "43\n",
      "44\n",
      "45\n",
      "46\n",
      "47\n",
      "48\n",
      "49\n"
     ]
    }
   ],
   "source": [
    "\n",
    "rs= []\n",
    "for i_agent in range(50):\n",
    "    print(i_agent)\n",
    "    rewards_per_run = []\n",
    "    for i in range(1000):\n",
    "        #print(i)\n",
    "        done = False\n",
    "        rewards = []\n",
    "        s = env.reset()\n",
    "        while not done:\n",
    "            a = env.action_space.sample()\n",
    "            o, r, done, info = env.step(a)\n",
    "            os.append(np.array(o))\n",
    "            rewards.append(r)\n",
    "            #env.render()\n",
    "        rewards_per_run.append(np.sum(rewards))\n",
    "    rs.append(np.array(rewards_per_run))\n",
    "\n",
    "np.save(\"random_rewards.npy\",np.array(rs)) \n"
   ]
  },
  {
   "cell_type": "code",
   "execution_count": 17,
   "metadata": {},
   "outputs": [
    {
     "name": "stdout",
     "output_type": "stream",
     "text": [
      "(50, 1000)\n"
     ]
    },
    {
     "data": {
      "image/png": "[encoded data removed]",
      "text/plain": [
       "<Figure size 432x288 with 1 Axes>"
      ]
     },
     "metadata": {},
     "output_type": "display_data"
    }
   ],
   "source": [
    "test = np.load(\"random_rewards.npy\")\n",
    "print(test.shape)\n",
    "plt.plot(np.mean(test,axis=0))\n",
    "plt.show()"
   ]
  },
  {
   "cell_type": "code",
   "execution_count": 18,
   "metadata": {},
   "outputs": [
    {
     "name": "stdout",
     "output_type": "stream",
     "text": [
      "0\n",
      "1\n",
      "2\n",
      "3\n",
      "4\n",
      "5\n",
      "6\n",
      "7\n",
      "8\n",
      "9\n",
      "10\n",
      "11\n",
      "12\n",
      "13\n",
      "14\n",
      "15\n",
      "16\n",
      "17\n",
      "18\n",
      "19\n",
      "20\n",
      "21\n",
      "22\n",
      "23\n",
      "24\n",
      "25\n",
      "26\n",
      "27\n",
      "28\n",
      "29\n",
      "30\n",
      "31\n",
      "32\n",
      "33\n",
      "34\n",
      "35\n",
      "36\n",
      "37\n",
      "38\n",
      "39\n",
      "40\n",
      "41\n",
      "42\n",
      "43\n",
      "44\n",
      "45\n",
      "46\n",
      "47\n",
      "48\n",
      "49\n"
     ]
    }
   ],
   "source": [
    "# stimulus response agent\n",
    "rs = []\n",
    "for i_agent in range(50):\n",
    "    print(i_agent)\n",
    "    os = []\n",
    "    rewards_per_run = []\n",
    "    actions = []\n",
    "    a = 0\n",
    "    for i in range(1000):\n",
    "        done = False\n",
    "        o = env.reset()\n",
    "        rewards = []\n",
    "        while not done:\n",
    "            o, r, done, info = env.step(a)\n",
    "            os.append(np.array(o))\n",
    "            rewards.append(r)\n",
    "            if o[2] <=0:\n",
    "                a = 0\n",
    "            else:\n",
    "                a = 1\n",
    "            actions.append(a)\n",
    "            #env.render()\n",
    "        rewards_per_run.append(np.sum(rewards))\n",
    "    rs.append(np.array(rewards_per_run))\n",
    "    \n",
    "np.save(\"stimulus_response_rewards.npy\", np.array(rs))\n"
   ]
  },
  {
   "cell_type": "code",
   "execution_count": null,
   "metadata": {},
   "outputs": [],
   "source": []
  },
  {
   "cell_type": "code",
   "execution_count": null,
   "metadata": {},
   "outputs": [],
   "source": []
  }
 ],
 "metadata": {
  "kernelspec": {
   "display_name": "Python 3",
   "language": "python",
   "name": "python3"
  },
  "language_info": {
   "codemirror_mode": {
    "name": "ipython",
    "version": 3
   },
   "file_extension": ".py",
   "mimetype": "text/x-python",
   "name": "python",
   "nbconvert_exporter": "python",
   "pygments_lexer": "ipython3",
   "version": "3.6.5"
  }
 },
 "nbformat": 4,
 "nbformat_minor": 2
}
